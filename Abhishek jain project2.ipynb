{
 "cells": [
  {
   "cell_type": "code",
   "execution_count": 3,
   "metadata": {},
   "outputs": [],
   "source": [
    "import pandas as pd\n",
    "import numpy as np"
   ]
  },
  {
   "cell_type": "markdown",
   "metadata": {},
   "source": [
    "Task 1: Data Acquisition and Data Wrangling on Dataset 1 and Dataset 2 (Week 1)"
   ]
  },
  {
   "cell_type": "code",
   "execution_count": 1,
   "metadata": {},
   "outputs": [],
   "source": [
    "datapath1 = r\"D:\\ABHISHEK DIGICROME\\Project 2 nexthikes\\dataset1.csv\"\n",
    "datapath2 = r\"D:\\ABHISHEK DIGICROME\\Project 2 nexthikes\\dataset2.csv\""
   ]
  },
  {
   "cell_type": "code",
   "execution_count": 4,
   "metadata": {},
   "outputs": [],
   "source": [
    "dataset_1 = pd.read_csv(datapath1)\n",
    "dataset_2 = pd.read_csv(datapath2)"
   ]
  },
  {
   "cell_type": "code",
   "execution_count": 5,
   "metadata": {},
   "outputs": [
    {
     "name": "stdout",
     "output_type": "stream",
     "text": [
      "   instant      dteday  season  yr  mnth  hr  holiday  weekday  weathersit  \\\n",
      "0        1  01-01-2011       1   0     1   0    False        6           1   \n",
      "1        2  01-01-2011       1   0     1   1    False        6           1   \n",
      "2        3  01-01-2011       1   0     1   2    False        6           1   \n",
      "3        4  01-01-2011       1   0     1   3    False        6           1   \n",
      "4        5  01-01-2011       1   0     1   4    False        6           1   \n",
      "\n",
      "   temp  \n",
      "0  0.24  \n",
      "1  0.22  \n",
      "2  0.22  \n",
      "3  0.24  \n",
      "4  0.24  \n",
      "   Unnamed: 0  instant   atemp   hum  windspeed  casual  registered  cnt\n",
      "0           0        1  0.2879  0.81        0.0       3          13   16\n",
      "1           1        2  0.2727  0.80        0.0       8          32   40\n",
      "2           2        3  0.2727  0.80        0.0       5          27   32\n",
      "3           3        4  0.2879  0.75        0.0       3          10   13\n",
      "4           4        5  0.2879  0.75        0.0       0           1    1\n"
     ]
    }
   ],
   "source": [
    "print(dataset_1.head())\n",
    "print(dataset_2.head())"
   ]
  },
  {
   "cell_type": "markdown",
   "metadata": {},
   "source": [
    ":-Merging of Data"
   ]
  },
  {
   "cell_type": "code",
   "execution_count": 6,
   "metadata": {},
   "outputs": [],
   "source": [
    "combined_data = pd.merge(dataset_1, dataset_2, on='instant', how='outer')\n"
   ]
  },
  {
   "cell_type": "code",
   "execution_count": 7,
   "metadata": {},
   "outputs": [
    {
     "name": "stdout",
     "output_type": "stream",
     "text": [
      "   instant      dteday  season  yr  mnth  hr  holiday  weekday  weathersit  \\\n",
      "0        1  01-01-2011       1   0     1   0    False        6           1   \n",
      "1        2  01-01-2011       1   0     1   1    False        6           1   \n",
      "2        3  01-01-2011       1   0     1   2    False        6           1   \n",
      "3        4  01-01-2011       1   0     1   3    False        6           1   \n",
      "4        5  01-01-2011       1   0     1   4    False        6           1   \n",
      "\n",
      "   temp  Unnamed: 0   atemp   hum  windspeed  casual  registered  cnt  \n",
      "0  0.24           0  0.2879  0.81        0.0       3          13   16  \n",
      "1  0.22           1  0.2727  0.80        0.0       8          32   40  \n",
      "2  0.22           2  0.2727  0.80        0.0       5          27   32  \n",
      "3  0.24           3  0.2879  0.75        0.0       3          10   13  \n",
      "4  0.24           4  0.2879  0.75        0.0       0           1    1  \n"
     ]
    }
   ],
   "source": [
    "print(combined_data.head())"
   ]
  },
  {
   "cell_type": "code",
   "execution_count": 8,
   "metadata": {},
   "outputs": [
    {
     "name": "stdout",
     "output_type": "stream",
     "text": [
      "instant       610\n",
      "dteday         28\n",
      "season          1\n",
      "yr              1\n",
      "mnth            1\n",
      "hr             24\n",
      "holiday         2\n",
      "weekday         7\n",
      "weathersit      4\n",
      "temp           23\n",
      "Unnamed: 0    610\n",
      "atemp          29\n",
      "hum            61\n",
      "windspeed      20\n",
      "casual         32\n",
      "registered    150\n",
      "cnt           165\n",
      "dtype: int64\n"
     ]
    }
   ],
   "source": [
    "unique_values = combined_data.nunique()\n",
    "print(unique_values)"
   ]
  },
  {
   "cell_type": "markdown",
   "metadata": {},
   "source": [
    "Drop Unnecessary Columns:"
   ]
  },
  {
   "cell_type": "code",
   "execution_count": 9,
   "metadata": {},
   "outputs": [],
   "source": [
    "combined_data.drop(columns=['instant', 'Unnamed: 0'], inplace=True) \n"
   ]
  },
  {
   "cell_type": "code",
   "execution_count": 10,
   "metadata": {},
   "outputs": [
    {
     "name": "stdout",
     "output_type": "stream",
     "text": [
      "(610, 15)\n"
     ]
    }
   ],
   "source": [
    "print(combined_data.shape)\n"
   ]
  },
  {
   "cell_type": "markdown",
   "metadata": {},
   "source": [
    "Check Data Types:"
   ]
  },
  {
   "cell_type": "code",
   "execution_count": 11,
   "metadata": {},
   "outputs": [
    {
     "name": "stdout",
     "output_type": "stream",
     "text": [
      "dteday         object\n",
      "season          int64\n",
      "yr              int64\n",
      "mnth            int64\n",
      "hr              int64\n",
      "holiday          bool\n",
      "weekday         int64\n",
      "weathersit      int64\n",
      "temp          float64\n",
      "atemp         float64\n",
      "hum           float64\n",
      "windspeed     float64\n",
      "casual          int64\n",
      "registered      int64\n",
      "cnt             int64\n",
      "dtype: object\n"
     ]
    }
   ],
   "source": [
    "print(combined_data.dtypes)"
   ]
  },
  {
   "cell_type": "markdown",
   "metadata": {},
   "source": [
    "Identify missing values"
   ]
  },
  {
   "cell_type": "code",
   "execution_count": 12,
   "metadata": {},
   "outputs": [
    {
     "name": "stdout",
     "output_type": "stream",
     "text": [
      "dteday         0\n",
      "season         0\n",
      "yr             0\n",
      "mnth           0\n",
      "hr             0\n",
      "holiday        0\n",
      "weekday        0\n",
      "weathersit     0\n",
      "temp           0\n",
      "atemp         11\n",
      "hum            0\n",
      "windspeed      0\n",
      "casual         0\n",
      "registered     0\n",
      "cnt            0\n",
      "dtype: int64\n"
     ]
    }
   ],
   "source": [
    "print(combined_data.isnull().sum())"
   ]
  },
  {
   "cell_type": "code",
   "execution_count": 15,
   "metadata": {},
   "outputs": [
    {
     "name": "stderr",
     "output_type": "stream",
     "text": [
      "C:\\Users\\Dell\\AppData\\Local\\Temp\\ipykernel_2464\\1195928240.py:2: FutureWarning: A value is trying to be set on a copy of a DataFrame or Series through chained assignment using an inplace method.\n",
      "The behavior will change in pandas 3.0. This inplace method will never work because the intermediate object on which we are setting values always behaves as a copy.\n",
      "\n",
      "For example, when doing 'df[col].method(value, inplace=True)', try using 'df.method({col: value}, inplace=True)' or df[col] = df[col].method(value) instead, to perform the operation inplace on the original object.\n",
      "\n",
      "\n",
      "  combined_data['atemp'].fillna(median_temp, inplace=True)\n"
     ]
    }
   ],
   "source": [
    "median_temp = combined_data['atemp'].median()\n",
    "combined_data['atemp'].fillna(median_temp, inplace=True)\n"
   ]
  },
  {
   "cell_type": "code",
   "execution_count": 16,
   "metadata": {},
   "outputs": [
    {
     "name": "stdout",
     "output_type": "stream",
     "text": [
      "dteday        0\n",
      "season        0\n",
      "yr            0\n",
      "mnth          0\n",
      "hr            0\n",
      "holiday       0\n",
      "weekday       0\n",
      "weathersit    0\n",
      "temp          0\n",
      "atemp         0\n",
      "hum           0\n",
      "windspeed     0\n",
      "casual        0\n",
      "registered    0\n",
      "cnt           0\n",
      "dtype: int64\n"
     ]
    }
   ],
   "source": [
    "print(combined_data.isnull().sum()) #rechek null values"
   ]
  },
  {
   "cell_type": "markdown",
   "metadata": {},
   "source": [
    "Task 2: Data Acquisition and Wrangling on Dataset 3"
   ]
  },
  {
   "cell_type": "code",
   "execution_count": 17,
   "metadata": {},
   "outputs": [],
   "source": [
    "datapath3 = r\"D:\\ABHISHEK DIGICROME\\Project 2 nexthikes\\dataset3.csv\"\n",
    "dataset_3 = pd.read_csv(datapath3)"
   ]
  },
  {
   "cell_type": "code",
   "execution_count": 18,
   "metadata": {},
   "outputs": [
    {
     "name": "stdout",
     "output_type": "stream",
     "text": [
      "   instant      dteday  season  yr  mnth  hr  holiday  weekday  weathersit  \\\n",
      "0      620  29-01-2011       1   0     1   1    False        6           1   \n",
      "1      621  29-01-2011       1   0     1   2    False        6           1   \n",
      "2      622  29-01-2011       1   0     1   3    False        6           1   \n",
      "3      623  29-01-2011       1   0     1   4    False        6           1   \n",
      "4      624  29-01-2011       1   0     1   6    False        6           1   \n",
      "\n",
      "   temp   atemp   hum  windspeed  casual  registered  cnt  \n",
      "0  0.22  0.2273  0.64     0.1940       0          20   20  \n",
      "1  0.22  0.2273  0.64     0.1642       0          15   15  \n",
      "2  0.20  0.2121  0.64     0.1343       3           5    8  \n",
      "3  0.16  0.1818  0.69     0.1045       1           2    3  \n",
      "4  0.16  0.1818  0.64     0.1343       0           2    2  \n"
     ]
    }
   ],
   "source": [
    "print(dataset_3.head())"
   ]
  },
  {
   "cell_type": "code",
   "execution_count": 19,
   "metadata": {},
   "outputs": [],
   "source": [
    "dataset_3.drop(columns=['instant'], inplace=True) "
   ]
  },
  {
   "cell_type": "markdown",
   "metadata": {},
   "source": [
    "Concatenate Combined Data with Dataset 3"
   ]
  },
  {
   "cell_type": "code",
   "execution_count": 20,
   "metadata": {},
   "outputs": [],
   "source": [
    "final_data = pd.concat([combined_data, dataset_3], ignore_index=True)"
   ]
  },
  {
   "cell_type": "code",
   "execution_count": 21,
   "metadata": {},
   "outputs": [
    {
     "name": "stdout",
     "output_type": "stream",
     "text": [
      "(1000, 15)\n"
     ]
    }
   ],
   "source": [
    "print(final_data.shape)"
   ]
  },
  {
   "cell_type": "code",
   "execution_count": 23,
   "metadata": {},
   "outputs": [
    {
     "name": "stdout",
     "output_type": "stream",
     "text": [
      "dteday        0\n",
      "season        0\n",
      "yr            0\n",
      "mnth          0\n",
      "hr            0\n",
      "holiday       0\n",
      "weekday       0\n",
      "weathersit    0\n",
      "temp          0\n",
      "atemp         0\n",
      "hum           0\n",
      "windspeed     0\n",
      "casual        0\n",
      "registered    0\n",
      "cnt           0\n",
      "dtype: int64\n"
     ]
    }
   ],
   "source": [
    "print(final_data.isnull().sum())"
   ]
  },
  {
   "cell_type": "markdown",
   "metadata": {},
   "source": [
    "Task 3: Check Skewness and Correlation of the Data"
   ]
  },
  {
   "cell_type": "code",
   "execution_count": 26,
   "metadata": {},
   "outputs": [
    {
     "name": "stdout",
     "output_type": "stream",
     "text": [
      "1.1377091237001284\n"
     ]
    }
   ],
   "source": [
    "print(final_data['cnt'].skew())"
   ]
  },
  {
   "cell_type": "code",
   "execution_count": 30,
   "metadata": {},
   "outputs": [
    {
     "name": "stdout",
     "output_type": "stream",
     "text": [
      "            season  yr      mnth        hr   weekday  weathersit      temp  \\\n",
      "season         NaN NaN       NaN       NaN       NaN         NaN       NaN   \n",
      "yr             NaN NaN       NaN       NaN       NaN         NaN       NaN   \n",
      "mnth           NaN NaN  1.000000 -0.025646  0.034710    0.014061  0.159660   \n",
      "hr             NaN NaN -0.025646  1.000000  0.007531   -0.055802  0.203512   \n",
      "weekday        NaN NaN  0.034710  0.007531  1.000000    0.060007 -0.081776   \n",
      "weathersit     NaN NaN  0.014061 -0.055802  0.060007    1.000000  0.106041   \n",
      "temp           NaN NaN  0.159660  0.203512 -0.081776    0.106041  1.000000   \n",
      "atemp          NaN NaN  0.192487  0.148514 -0.051462    0.136909  0.909300   \n",
      "hum            NaN NaN  0.066587 -0.194853  0.062469    0.539402  0.080720   \n",
      "windspeed      NaN NaN -0.029383  0.116640 -0.056754   -0.177655  0.122625   \n",
      "casual         NaN NaN  0.088326  0.204476 -0.047363   -0.096346  0.470221   \n",
      "registered     NaN NaN  0.072660  0.357042  0.020505   -0.119234  0.169045   \n",
      "cnt            NaN NaN  0.081496  0.366047  0.012161   -0.126448  0.229292   \n",
      "\n",
      "               atemp       hum  windspeed    casual  registered       cnt  \n",
      "season           NaN       NaN        NaN       NaN         NaN       NaN  \n",
      "yr               NaN       NaN        NaN       NaN         NaN       NaN  \n",
      "mnth        0.192487  0.066587  -0.029383  0.088326    0.072660  0.081496  \n",
      "hr          0.148514 -0.194853   0.116640  0.204476    0.357042  0.366047  \n",
      "weekday    -0.051462  0.062469  -0.056754 -0.047363    0.020505  0.012161  \n",
      "weathersit  0.136909  0.539402  -0.177655 -0.096346   -0.119234 -0.126448  \n",
      "temp        0.909300  0.080720   0.122625  0.470221    0.169045  0.229292  \n",
      "atemp       1.000000  0.192282  -0.212198  0.423522    0.138464  0.193564  \n",
      "hum         0.192282  1.000000  -0.385550 -0.259407   -0.229370 -0.254353  \n",
      "windspeed  -0.212198 -0.385550   1.000000  0.129392    0.090059  0.103997  \n",
      "casual      0.423522 -0.259407   0.129392  1.000000    0.337706  0.467151  \n",
      "registered  0.138464 -0.229370   0.090059  0.337706    1.000000  0.989993  \n",
      "cnt         0.193564 -0.254353   0.103997  0.467151    0.989993  1.000000  \n"
     ]
    }
   ],
   "source": [
    "# Exclude non-numeric columns\n",
    "numeric_data = final_data.select_dtypes(include=[float, int])\n",
    "correlation_matrix = numeric_data.corr()\n",
    "print(correlation_matrix)\n"
   ]
  },
  {
   "cell_type": "code",
   "execution_count": 31,
   "metadata": {},
   "outputs": [],
   "source": [
    "final_data.to_csv('final data.csv', index= False)"
   ]
  },
  {
   "cell_type": "code",
   "execution_count": null,
   "metadata": {},
   "outputs": [],
   "source": []
  }
 ],
 "metadata": {
  "kernelspec": {
   "display_name": "Python 3",
   "language": "python",
   "name": "python3"
  },
  "language_info": {
   "codemirror_mode": {
    "name": "ipython",
    "version": 3
   },
   "file_extension": ".py",
   "mimetype": "text/x-python",
   "name": "python",
   "nbconvert_exporter": "python",
   "pygments_lexer": "ipython3",
   "version": "3.12.7"
  }
 },
 "nbformat": 4,
 "nbformat_minor": 2
}
